{
  "nbformat": 4,
  "nbformat_minor": 0,
  "metadata": {
    "colab": {
      "name": "Vaccine Hesitancy & Risk Factors STIP",
      "provenance": [],
      "collapsed_sections": [],
      "toc_visible": true,
      "include_colab_link": true
    },
    "kernelspec": {
      "name": "python3",
      "display_name": "Python 3"
    },
    "language_info": {
      "name": "python"
    }
  },
  "cells": [
    {
      "cell_type": "markdown",
      "metadata": {
        "id": "view-in-github",
        "colab_type": "text"
      },
      "source": [
        "<a href=\"https://colab.research.google.com/github/shivanig151/Vaccine-Hesitancy-STIP/blob/main/Vaccine_Hesitancy_%26_Risk_Factors_STIP.ipynb\" target=\"_parent\"><img src=\"https://colab.research.google.com/assets/colab-badge.svg\" alt=\"Open In Colab\"/></a>"
      ]
    },
    {
      "cell_type": "code",
      "metadata": {
        "id": "lejuRJsbJJih"
      },
      "source": [
        "pip install covidcast"
      ],
      "execution_count": null,
      "outputs": []
    },
    {
      "cell_type": "code",
      "metadata": {
        "id": "JwAaODIoN7q0"
      },
      "source": [
        "from datetime import date\n",
        "import covidcast\n",
        "\n",
        "data = covidcast.signal(\"fb-survey\", \"smoothed_covid_vaccinated_or_accept\",date(2020, 12, 20), date(2021, 6, 8),\n",
        "                        \"county\")"
      ],
      "execution_count": null,
      "outputs": []
    },
    {
      "cell_type": "code",
      "metadata": {
        "id": "0q9sMvTcNbKA",
        "colab": {
          "base_uri": "https://localhost:8080/",
          "height": 202
        },
        "outputId": "810b0903-7ca7-4f1b-d928-220ebbd52d6f"
      },
      "source": [
        "data.head()"
      ],
      "execution_count": null,
      "outputs": [
        {
          "output_type": "execute_result",
          "data": {
            "text/html": [
              "<div>\n",
              "<style scoped>\n",
              "    .dataframe tbody tr th:only-of-type {\n",
              "        vertical-align: middle;\n",
              "    }\n",
              "\n",
              "    .dataframe tbody tr th {\n",
              "        vertical-align: top;\n",
              "    }\n",
              "\n",
              "    .dataframe thead th {\n",
              "        text-align: right;\n",
              "    }\n",
              "</style>\n",
              "<table border=\"1\" class=\"dataframe\">\n",
              "  <thead>\n",
              "    <tr style=\"text-align: right;\">\n",
              "      <th></th>\n",
              "      <th>geo_value</th>\n",
              "      <th>signal</th>\n",
              "      <th>time_value</th>\n",
              "      <th>issue</th>\n",
              "      <th>lag</th>\n",
              "      <th>value</th>\n",
              "      <th>stderr</th>\n",
              "      <th>sample_size</th>\n",
              "      <th>geo_type</th>\n",
              "      <th>data_source</th>\n",
              "    </tr>\n",
              "  </thead>\n",
              "  <tbody>\n",
              "    <tr>\n",
              "      <th>0</th>\n",
              "      <td>01000</td>\n",
              "      <td>smoothed_covid_vaccinated_or_accept</td>\n",
              "      <td>2020-12-20</td>\n",
              "      <td>2020-12-21</td>\n",
              "      <td>1</td>\n",
              "      <td>64.399050</td>\n",
              "      <td>2.014393</td>\n",
              "      <td>565.0054</td>\n",
              "      <td>county</td>\n",
              "      <td>fb-survey</td>\n",
              "    </tr>\n",
              "    <tr>\n",
              "      <th>1</th>\n",
              "      <td>02000</td>\n",
              "      <td>smoothed_covid_vaccinated_or_accept</td>\n",
              "      <td>2020-12-20</td>\n",
              "      <td>2020-12-21</td>\n",
              "      <td>1</td>\n",
              "      <td>67.307692</td>\n",
              "      <td>4.130097</td>\n",
              "      <td>129.0000</td>\n",
              "      <td>county</td>\n",
              "      <td>fb-survey</td>\n",
              "    </tr>\n",
              "    <tr>\n",
              "      <th>2</th>\n",
              "      <td>04000</td>\n",
              "      <td>smoothed_covid_vaccinated_or_accept</td>\n",
              "      <td>2020-12-20</td>\n",
              "      <td>2020-12-21</td>\n",
              "      <td>1</td>\n",
              "      <td>61.476945</td>\n",
              "      <td>3.698210</td>\n",
              "      <td>173.1609</td>\n",
              "      <td>county</td>\n",
              "      <td>fb-survey</td>\n",
              "    </tr>\n",
              "    <tr>\n",
              "      <th>3</th>\n",
              "      <td>04013</td>\n",
              "      <td>smoothed_covid_vaccinated_or_accept</td>\n",
              "      <td>2020-12-20</td>\n",
              "      <td>2020-12-21</td>\n",
              "      <td>1</td>\n",
              "      <td>67.878382</td>\n",
              "      <td>2.461543</td>\n",
              "      <td>359.8439</td>\n",
              "      <td>county</td>\n",
              "      <td>fb-survey</td>\n",
              "    </tr>\n",
              "    <tr>\n",
              "      <th>4</th>\n",
              "      <td>04019</td>\n",
              "      <td>smoothed_covid_vaccinated_or_accept</td>\n",
              "      <td>2020-12-20</td>\n",
              "      <td>2020-12-21</td>\n",
              "      <td>1</td>\n",
              "      <td>73.637865</td>\n",
              "      <td>3.257229</td>\n",
              "      <td>182.9722</td>\n",
              "      <td>county</td>\n",
              "      <td>fb-survey</td>\n",
              "    </tr>\n",
              "  </tbody>\n",
              "</table>\n",
              "</div>"
            ],
            "text/plain": [
              "  geo_value                               signal  ... geo_type data_source\n",
              "0     01000  smoothed_covid_vaccinated_or_accept  ...   county   fb-survey\n",
              "1     02000  smoothed_covid_vaccinated_or_accept  ...   county   fb-survey\n",
              "2     04000  smoothed_covid_vaccinated_or_accept  ...   county   fb-survey\n",
              "3     04013  smoothed_covid_vaccinated_or_accept  ...   county   fb-survey\n",
              "4     04019  smoothed_covid_vaccinated_or_accept  ...   county   fb-survey\n",
              "\n",
              "[5 rows x 10 columns]"
            ]
          },
          "metadata": {
            "tags": []
          },
          "execution_count": 105
        }
      ]
    },
    {
      "cell_type": "code",
      "metadata": {
        "colab": {
          "base_uri": "https://localhost:8080/"
        },
        "id": "i29L5ygTO54p",
        "outputId": "fe7b7360-e3ce-4741-f6ee-3451f2539342"
      },
      "source": [
        "import pandas as pd\n",
        "#Number of counties in dataset -> 768\n",
        "n = len(pd.unique(data['geo_value']))\n",
        "origdata = data\n",
        "print(data)"
      ],
      "execution_count": null,
      "outputs": [
        {
          "output_type": "stream",
          "text": [
            "   geo_value                               signal  ... geo_type data_source\n",
            "0      01000  smoothed_covid_vaccinated_or_accept  ...   county   fb-survey\n",
            "1      02000  smoothed_covid_vaccinated_or_accept  ...   county   fb-survey\n",
            "2      04000  smoothed_covid_vaccinated_or_accept  ...   county   fb-survey\n",
            "3      04013  smoothed_covid_vaccinated_or_accept  ...   county   fb-survey\n",
            "4      04019  smoothed_covid_vaccinated_or_accept  ...   county   fb-survey\n",
            "..       ...                                  ...  ...      ...         ...\n",
            "35     48000  smoothed_covid_vaccinated_or_accept  ...   county   fb-survey\n",
            "36     49000  smoothed_covid_vaccinated_or_accept  ...   county   fb-survey\n",
            "37     51000  smoothed_covid_vaccinated_or_accept  ...   county   fb-survey\n",
            "38     53000  smoothed_covid_vaccinated_or_accept  ...   county   fb-survey\n",
            "39     55000  smoothed_covid_vaccinated_or_accept  ...   county   fb-survey\n",
            "\n",
            "[89954 rows x 10 columns]\n"
          ],
          "name": "stdout"
        }
      ]
    },
    {
      "cell_type": "code",
      "metadata": {
        "id": "VDN3PGBqyunQ"
      },
      "source": [
        "data = origdata"
      ],
      "execution_count": null,
      "outputs": []
    },
    {
      "cell_type": "code",
      "metadata": {
        "colab": {
          "base_uri": "https://localhost:8080/"
        },
        "id": "cc1WetWhfZxV",
        "outputId": "ec154cb1-299c-4506-d8d0-2dbd72dd5f8f"
      },
      "source": [
        "data.info()"
      ],
      "execution_count": null,
      "outputs": [
        {
          "output_type": "stream",
          "text": [
            "<class 'pandas.core.frame.DataFrame'>\n",
            "Int64Index: 89954 entries, 0 to 39\n",
            "Data columns (total 10 columns):\n",
            " #   Column       Non-Null Count  Dtype         \n",
            "---  ------       --------------  -----         \n",
            " 0   geo_value    89954 non-null  object        \n",
            " 1   signal       89954 non-null  object        \n",
            " 2   time_value   89954 non-null  datetime64[ns]\n",
            " 3   issue        89954 non-null  datetime64[ns]\n",
            " 4   lag          89954 non-null  int64         \n",
            " 5   value        89954 non-null  float64       \n",
            " 6   stderr       89954 non-null  float64       \n",
            " 7   sample_size  89954 non-null  float64       \n",
            " 8   geo_type     89954 non-null  object        \n",
            " 9   data_source  89954 non-null  object        \n",
            "dtypes: datetime64[ns](2), float64(3), int64(1), object(4)\n",
            "memory usage: 7.5+ MB\n"
          ],
          "name": "stdout"
        }
      ]
    },
    {
      "cell_type": "code",
      "metadata": {
        "id": "KtJV7CZPgjab"
      },
      "source": [
        "data = data.drop(columns = ['signal', 'lag','geo_type', 'data_source'])"
      ],
      "execution_count": null,
      "outputs": []
    },
    {
      "cell_type": "code",
      "metadata": {
        "id": "cgVbCSQGu5ME"
      },
      "source": [
        "data = data.drop(columns = ['stderr', 'sample_size'])"
      ],
      "execution_count": null,
      "outputs": []
    },
    {
      "cell_type": "code",
      "metadata": {
        "colab": {
          "base_uri": "https://localhost:8080/"
        },
        "id": "VwX-m2vGg5Wf",
        "outputId": "ce5507c9-6c2f-432c-8679-f8b731f0a017"
      },
      "source": [
        "data.info()"
      ],
      "execution_count": null,
      "outputs": [
        {
          "output_type": "stream",
          "text": [
            "<class 'pandas.core.frame.DataFrame'>\n",
            "Int64Index: 89954 entries, 0 to 39\n",
            "Data columns (total 6 columns):\n",
            " #   Column       Non-Null Count  Dtype         \n",
            "---  ------       --------------  -----         \n",
            " 0   geo_value    89954 non-null  object        \n",
            " 1   time_value   89954 non-null  datetime64[ns]\n",
            " 2   issue        89954 non-null  datetime64[ns]\n",
            " 3   value        89954 non-null  float64       \n",
            " 4   stderr       89954 non-null  float64       \n",
            " 5   sample_size  89954 non-null  float64       \n",
            "dtypes: datetime64[ns](2), float64(3), object(1)\n",
            "memory usage: 4.8+ MB\n"
          ],
          "name": "stdout"
        }
      ]
    },
    {
      "cell_type": "code",
      "metadata": {
        "id": "HK9gMvX_Q5hz"
      },
      "source": [
        "#Separating data based on county\n",
        "df1 = data.set_index([data['geo_value'],data.groupby('geo_value').cumcount()]).drop('geo_value',1).unstack(0)\n",
        "df1.columns = [f'{y}_{x}' for x,y in df1.columns]\n",
        "print(df1)"
      ],
      "execution_count": null,
      "outputs": []
    },
    {
      "cell_type": "code",
      "metadata": {
        "colab": {
          "base_uri": "https://localhost:8080/"
        },
        "id": "S16TdqY_dhpU",
        "outputId": "8fe5f7f0-6797-4165-aedb-a621a2c271d0"
      },
      "source": [
        "df1.info()"
      ],
      "execution_count": null,
      "outputs": [
        {
          "output_type": "stream",
          "text": [
            "<class 'pandas.core.frame.DataFrame'>\n",
            "Int64Index: 171 entries, 0 to 170\n",
            "Columns: 2304 entries, ('time_value', '01000') to ('value', '56025')\n",
            "dtypes: datetime64[ns](1536), float64(768)\n",
            "memory usage: 3.0 MB\n"
          ],
          "name": "stdout"
        }
      ]
    },
    {
      "cell_type": "code",
      "metadata": {
        "colab": {
          "base_uri": "https://localhost:8080/"
        },
        "id": "ZGWc1p-njzTC",
        "outputId": "5852fd11-5808-4572-e735-ba1af74d544e"
      },
      "source": [
        "print (df1)"
      ],
      "execution_count": null,
      "outputs": [
        {
          "output_type": "stream",
          "text": [
            "          time_value                        ...      value                      \n",
            "geo_value      01000      01003      01015  ...      56000      56021      56025\n",
            "0         2020-12-20 2020-12-22 2021-01-05  ...  52.318524  63.333333  56.721355\n",
            "1         2020-12-21 2020-12-23 2021-01-06  ...  54.362461  64.728682  58.038015\n",
            "2         2020-12-22 2020-12-24 2021-01-07  ...  58.252091  64.682540  58.770159\n",
            "3         2020-12-23 2020-12-25 2021-01-08  ...  57.793773  69.921875  58.246391\n",
            "4         2020-12-24 2020-12-26 2021-01-09  ...  58.830484  67.524064  56.345384\n",
            "..               ...        ...        ...  ...        ...        ...        ...\n",
            "166       2021-06-04        NaT        NaT  ...        NaN        NaN        NaN\n",
            "167       2021-06-05        NaT        NaT  ...        NaN        NaN        NaN\n",
            "168       2021-06-06        NaT        NaT  ...        NaN        NaN        NaN\n",
            "169       2021-06-07        NaT        NaT  ...        NaN        NaN        NaN\n",
            "170       2021-06-08        NaT        NaT  ...        NaN        NaN        NaN\n",
            "\n",
            "[171 rows x 2304 columns]\n"
          ],
          "name": "stdout"
        }
      ]
    },
    {
      "cell_type": "code",
      "metadata": {
        "colab": {
          "base_uri": "https://localhost:8080/"
        },
        "id": "yFZwRz3XjohN",
        "outputId": "a0479846-fe32-4557-e611-9e83fa6c4f22"
      },
      "source": [
        "print(df1['56021_value'].isnull().sum())"
      ],
      "execution_count": null,
      "outputs": [
        {
          "output_type": "stream",
          "text": [
            "49\n"
          ],
          "name": "stdout"
        }
      ]
    },
    {
      "cell_type": "code",
      "metadata": {
        "colab": {
          "base_uri": "https://localhost:8080/"
        },
        "id": "dLjk69LjUtHH",
        "outputId": "4acba16d-18af-4b02-e3a6-8d06e60d3d05"
      },
      "source": [
        "print(data)"
      ],
      "execution_count": null,
      "outputs": [
        {
          "output_type": "stream",
          "text": [
            "time_value  issue     \n",
            "2020-12-20  2020-12-21          NaN\n",
            "2020-12-21  2020-12-22    85.359466\n",
            "2020-12-22  2020-12-23    83.186106\n",
            "2020-12-23  2020-12-24    84.908429\n",
            "2020-12-24  2020-12-25    85.629537\n",
            "                            ...    \n",
            "2021-06-04  2021-06-09          NaN\n",
            "2021-06-05  2021-06-09          NaN\n",
            "2021-06-06  2021-06-09          NaN\n",
            "2021-06-07  2021-06-09          NaN\n",
            "2021-06-08  2021-06-09          NaN\n",
            "Name: 51059, Length: 174, dtype: float64\n"
          ],
          "name": "stdout"
        }
      ]
    },
    {
      "cell_type": "code",
      "metadata": {
        "colab": {
          "base_uri": "https://localhost:8080/",
          "height": 296
        },
        "id": "g9pR6Nz84zrp",
        "outputId": "1bae75e7-9ef7-4a7e-dd7f-0e36b450864a"
      },
      "source": [
        "import matplotlib.pyplot as plt\n",
        "datacopy = data.sort_values('time_value', ascending = True)\n",
        "plt.plot(datacopy['time_value'], datacopy['value'])\n",
        "plt.xticks(rotation='vertical')\n",
        "plt.show()"
      ],
      "execution_count": null,
      "outputs": [
        {
          "output_type": "display_data",
          "data": {
            "image/png": "[encoded data removed]",
            "text/plain": [
              "<Figure size 432x288 with 1 Axes>"
            ]
          },
          "metadata": {
            "tags": [],
            "needs_background": "light"
          }
        }
      ]
    }
  ]
}